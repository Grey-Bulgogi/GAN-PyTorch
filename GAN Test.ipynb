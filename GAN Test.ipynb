{
 "cells": [
  {
   "cell_type": "code",
   "execution_count": 1,
   "metadata": {
    "ExecuteTime": {
     "end_time": "2019-09-30T09:29:27.076999Z",
     "start_time": "2019-09-30T09:29:25.348500Z"
    }
   },
   "outputs": [],
   "source": [
    "import torch\n",
    "from torch import nn, optim\n",
    "from torch.autograd import Variable\n",
    "import numpy as np\n",
    "from numpy.random import randn\n",
    "import matplotlib.pyplot as plt\n",
    "import seaborn as sns\n",
    "from IPython.display import clear_output"
   ]
  },
  {
   "cell_type": "code",
   "execution_count": 2,
   "metadata": {
    "ExecuteTime": {
     "end_time": "2019-09-30T09:29:27.247457Z",
     "start_time": "2019-09-30T09:29:27.083692Z"
    },
    "scrolled": true
   },
   "outputs": [
    {
     "name": "stdout",
     "output_type": "stream",
     "text": [
      "cuda\n"
     ]
    }
   ],
   "source": [
    "use_cuda = torch.cuda.is_available()\n",
    "device = torch.device('cuda' if use_cuda else 'cpu')\n",
    "print(device)"
   ]
  },
  {
   "cell_type": "code",
   "execution_count": 3,
   "metadata": {
    "ExecuteTime": {
     "end_time": "2019-09-30T09:29:27.284441Z",
     "start_time": "2019-09-30T09:29:27.250874Z"
    }
   },
   "outputs": [],
   "source": [
    "def real_fn(x):\n",
    "    return x*x + 3*x + 2\n",
    "\n",
    "\n",
    "def get_real_samples(n=5000, r=50):\n",
    "    data = []\n",
    "    x = r * randn(n)\n",
    "\n",
    "    for i in range(n):\n",
    "        y = real_fn(x[i])\n",
    "        data.append([x[i], y])\n",
    "\n",
    "    return torch.FloatTensor(data)"
   ]
  },
  {
   "cell_type": "code",
   "execution_count": 4,
   "metadata": {
    "ExecuteTime": {
     "end_time": "2019-09-30T09:29:27.298703Z",
     "start_time": "2019-09-30T09:29:27.286911Z"
    }
   },
   "outputs": [],
   "source": [
    "def get_fake_samples(n=5000, elements=5):\n",
    "    return torch.randn(size=[n, elements])"
   ]
  },
  {
   "cell_type": "code",
   "execution_count": 5,
   "metadata": {
    "ExecuteTime": {
     "end_time": "2019-09-30T09:29:27.369033Z",
     "start_time": "2019-09-30T09:29:27.301434Z"
    }
   },
   "outputs": [],
   "source": [
    "class Generator(nn.Module):\n",
    "    def __init__(self, input_len=5, hidden_len=16, output_len=2):\n",
    "        super(Generator, self).__init__()\n",
    "\n",
    "        self.layer1 = nn.Sequential(\n",
    "            nn.Linear(input_len, hidden_len),\n",
    "            nn.LeakyReLU(0.2)\n",
    "        )\n",
    "        self.layer2 = nn.Sequential(\n",
    "            nn.Linear(hidden_len, hidden_len),\n",
    "            nn.LeakyReLU(0.2)\n",
    "        )\n",
    "        self.layer3 = nn.Sequential(\n",
    "            nn.Linear(hidden_len, output_len)\n",
    "        )\n",
    "\n",
    "    def forward(self, x):\n",
    "        x = self.layer1(x)\n",
    "        x = self.layer2(x)\n",
    "        x = self.layer3(x)\n",
    "        return x\n",
    "\n",
    "\n",
    "generator = Generator()"
   ]
  },
  {
   "cell_type": "code",
   "execution_count": 6,
   "metadata": {
    "ExecuteTime": {
     "end_time": "2019-09-30T09:29:27.389367Z",
     "start_time": "2019-09-30T09:29:27.371719Z"
    }
   },
   "outputs": [],
   "source": [
    "class Discriminator(nn.Module):\n",
    "    def __init__(self, input_len=2, hidden_len=16, output_len=1):\n",
    "        super(Discriminator, self).__init__()\n",
    "\n",
    "        self.layer1 = nn.Sequential(\n",
    "            nn.Linear(input_len, hidden_len),\n",
    "            nn.LeakyReLU(0.2),\n",
    "            nn.Dropout(0.3)\n",
    "        )\n",
    "        self.layer2 = nn.Sequential(\n",
    "            nn.Linear(hidden_len, hidden_len),\n",
    "            nn.LeakyReLU(0.2),\n",
    "            nn.Dropout(0.3)\n",
    "        )\n",
    "        self.layer3 = nn.Sequential(\n",
    "            nn.Linear(hidden_len, output_len),\n",
    "            nn.Sigmoid()\n",
    "        )\n",
    "\n",
    "    def forward(self, x):\n",
    "        x = self.layer1(x)\n",
    "        x = self.layer2(x)\n",
    "        x = self.layer3(x)\n",
    "        return x\n",
    "\n",
    "\n",
    "discriminator = Discriminator()"
   ]
  },
  {
   "cell_type": "code",
   "execution_count": 7,
   "metadata": {
    "ExecuteTime": {
     "end_time": "2019-09-30T09:29:27.400210Z",
     "start_time": "2019-09-30T09:29:27.395034Z"
    }
   },
   "outputs": [],
   "source": [
    "d_lr = 2e-3\n",
    "g_lr = 2e-3"
   ]
  },
  {
   "cell_type": "code",
   "execution_count": 8,
   "metadata": {
    "ExecuteTime": {
     "end_time": "2019-09-30T09:29:27.426555Z",
     "start_time": "2019-09-30T09:29:27.404677Z"
    }
   },
   "outputs": [],
   "source": [
    "d_optimizer = optim.Adam(discriminator.parameters(), lr=d_lr)\n",
    "g_optimizer = optim.Adam(generator.parameters(), lr=g_lr)"
   ]
  },
  {
   "cell_type": "code",
   "execution_count": 9,
   "metadata": {
    "ExecuteTime": {
     "end_time": "2019-09-30T09:29:27.439317Z",
     "start_time": "2019-09-30T09:29:27.430184Z"
    }
   },
   "outputs": [],
   "source": [
    "loss = nn.BCELoss()"
   ]
  },
  {
   "cell_type": "code",
   "execution_count": 10,
   "metadata": {
    "ExecuteTime": {
     "end_time": "2019-09-30T09:29:27.452902Z",
     "start_time": "2019-09-30T09:29:27.442492Z"
    }
   },
   "outputs": [],
   "source": [
    "dtype = torch.cuda.FloatTensor\n",
    "\n",
    "def ones_target(size):\n",
    "    data = Variable(torch.ones(size, 1).type(dtype))\n",
    "    return data\n",
    "\n",
    "\n",
    "def zeros_target(size):\n",
    "    data = Variable(torch.zeros(size, 1).type(dtype))\n",
    "    return data"
   ]
  },
  {
   "cell_type": "code",
   "execution_count": 11,
   "metadata": {
    "ExecuteTime": {
     "end_time": "2019-09-30T09:29:27.469629Z",
     "start_time": "2019-09-30T09:29:27.456080Z"
    }
   },
   "outputs": [],
   "source": [
    "def train_discriminator(optimizer, real_data, fake_data):\n",
    "    N = real_data.size(0)\n",
    "    optimizer.zero_grad()\n",
    "\n",
    "    prediction_real = discriminator(real_data)\n",
    "    error_real = loss(prediction_real, ones_target(N))\n",
    "    error_real.backward()\n",
    "\n",
    "    prediction_fake = discriminator(fake_data)\n",
    "    error_fake = loss(prediction_fake, zeros_target(N))\n",
    "    error_fake.backward()\n",
    "\n",
    "    optimizer.step()\n",
    "\n",
    "    return error_real + error_fake, prediction_real, prediction_fake"
   ]
  },
  {
   "cell_type": "code",
   "execution_count": 12,
   "metadata": {
    "ExecuteTime": {
     "end_time": "2019-09-30T09:29:27.482450Z",
     "start_time": "2019-09-30T09:29:27.471860Z"
    }
   },
   "outputs": [],
   "source": [
    "def train_generator(optimizer, fake_data):\n",
    "    N = fake_data.size(0)\n",
    "    optimizer.zero_grad()\n",
    "\n",
    "    prediction = discriminator(fake_data)\n",
    "\n",
    "    error = loss(prediction, ones_target(N))\n",
    "    error.backward()\n",
    "\n",
    "    optimizer.step()\n",
    "\n",
    "    return error"
   ]
  },
  {
   "cell_type": "code",
   "execution_count": 13,
   "metadata": {
    "ExecuteTime": {
     "end_time": "2019-09-30T09:29:38.719463Z",
     "start_time": "2019-09-30T09:29:27.484720Z"
    }
   },
   "outputs": [
    {
     "data": {
      "text/plain": [
       "Generator(\n",
       "  (layer1): Sequential(\n",
       "    (0): Linear(in_features=5, out_features=16, bias=True)\n",
       "    (1): LeakyReLU(negative_slope=0.2)\n",
       "  )\n",
       "  (layer2): Sequential(\n",
       "    (0): Linear(in_features=16, out_features=16, bias=True)\n",
       "    (1): LeakyReLU(negative_slope=0.2)\n",
       "  )\n",
       "  (layer3): Sequential(\n",
       "    (0): Linear(in_features=16, out_features=2, bias=True)\n",
       "  )\n",
       ")"
      ]
     },
     "execution_count": 13,
     "metadata": {},
     "output_type": "execute_result"
    }
   ],
   "source": [
    "num_test_samples = 256\n",
    "discriminator_steps = 20\n",
    "generator_steps = 20\n",
    "num_epochs = 2000\n",
    "epoch_printing = 100\n",
    "discriminator.to(device)\n",
    "generator.to(device)"
   ]
  },
  {
   "cell_type": "code",
   "execution_count": 14,
   "metadata": {
    "ExecuteTime": {
     "end_time": "2019-09-30T09:29:38.734265Z",
     "start_time": "2019-09-30T09:29:38.723869Z"
    }
   },
   "outputs": [],
   "source": [
    "def current_status(real, fake):\n",
    "    x, y = zip(*fake.tolist())\n",
    "    plt.scatter(x, y)\n",
    "    x, y = zip(*real.tolist())\n",
    "    plt.scatter(x, y)\n",
    "    plt.legend(['Generated Data', 'Real Data'], loc='upper left')\n",
    "    plt.show()"
   ]
  },
  {
   "cell_type": "code",
   "execution_count": 15,
   "metadata": {
    "ExecuteTime": {
     "end_time": "2019-09-30T09:34:02.171635Z",
     "start_time": "2019-09-30T09:29:38.738895Z"
    }
   },
   "outputs": [
    {
     "name": "stdout",
     "output_type": "stream",
     "text": [
      "Epoch\n",
      "1900\n",
      "Discriminator Loss:\n",
      "tensor(1.3783, device='cuda:0', grad_fn=<AddBackward0>)\n",
      "Generator Loss:\n",
      "tensor(0.6749, device='cuda:0', grad_fn=<BinaryCrossEntropyBackward>)\n"
     ]
    },
    {
     "data": {
      "image/png": "[encoded data removed]",
      "text/plain": [
       "<Figure size 432x288 with 1 Axes>"
      ]
     },
     "metadata": {
      "needs_background": "dark"
     },
     "output_type": "display_data"
    }
   ],
   "source": [
    "for epoch in range(num_epochs):\n",
    "    real_plot_data = None\n",
    "    fake_plot_data = None\n",
    "    \n",
    "    for d_steps in range(discriminator_steps):\n",
    "        real_data = get_real_samples(n=num_test_samples)\n",
    "        real_plot_data = real_data\n",
    "        fake = get_fake_samples(n=num_test_samples)\n",
    "        fake = fake.to(device)\n",
    "        fake_data = generator(fake).detach()\n",
    "        fake_data = fake_data.to(device)\n",
    "        real_data = real_data.to(device)\n",
    "        d_error, d_pred_real, d_pred_fake = \\\n",
    "            train_discriminator(\n",
    "                d_optimizer, real_data, fake_data)\n",
    "    \n",
    "    for g_steps in range(generator_steps):\n",
    "        fake = get_fake_samples(n=num_test_samples)\n",
    "        fake = fake.to(device)\n",
    "        fake_data = generator(fake)\n",
    "        fake_plot_data = fake_data\n",
    "        g_error = train_generator(g_optimizer, fake_data)\n",
    "    \n",
    "    if(epoch % epoch_printing == 0):\n",
    "        clear_output()\n",
    "        print(\"Epoch\")\n",
    "        print(epoch)\n",
    "        print(\"Discriminator Loss:\")\n",
    "        print(d_error)\n",
    "        print(\"Generator Loss:\")\n",
    "        print(g_error)\n",
    "        current_status(real_plot_data, fake_plot_data)"
   ]
  },
  {
   "cell_type": "code",
   "execution_count": 16,
   "metadata": {
    "ExecuteTime": {
     "end_time": "2019-09-30T09:34:02.181674Z",
     "start_time": "2019-09-30T09:34:02.173118Z"
    }
   },
   "outputs": [],
   "source": [
    "torch.save(generator.state_dict(), 'generator.pth')\n",
    "torch.save(discriminator.state_dict(), 'discriminator.pth')\n",
    "torch.save(g_optimizer.state_dict(), 'g_optimizer.pth')\n",
    "torch.save(d_optimizer.state_dict(), 'd_optimizer.pth')"
   ]
  }
 ],
 "metadata": {
  "kernelspec": {
   "display_name": "Python 3",
   "language": "python",
   "name": "python3"
  },
  "language_info": {
   "codemirror_mode": {
    "name": "ipython",
    "version": 3
   },
   "file_extension": ".py",
   "mimetype": "text/x-python",
   "name": "python",
   "nbconvert_exporter": "python",
   "pygments_lexer": "ipython3",
   "version": "3.7.3"
  },
  "toc": {
   "base_numbering": 1,
   "nav_menu": {},
   "number_sections": true,
   "sideBar": true,
   "skip_h1_title": false,
   "title_cell": "Table of Contents",
   "title_sidebar": "Contents",
   "toc_cell": false,
   "toc_position": {},
   "toc_section_display": true,
   "toc_window_display": false
  }
 },
 "nbformat": 4,
 "nbformat_minor": 2
}
