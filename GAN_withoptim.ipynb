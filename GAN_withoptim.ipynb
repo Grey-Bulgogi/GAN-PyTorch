{
 "cells": [
  {
   "cell_type": "code",
   "execution_count": 2,
   "metadata": {
    "ExecuteTime": {
     "end_time": "2019-10-01T03:23:14.974604Z",
     "start_time": "2019-10-01T03:23:13.345437Z"
    }
   },
   "outputs": [],
   "source": [
    "import torch\n",
    "from torch import nn, optim\n",
    "from torch.autograd import Variable\n",
    "import numpy as np\n",
    "from numpy.random import randn\n",
    "from IPython.display import clear_output"
   ]
  },
  {
   "cell_type": "code",
   "execution_count": 3,
   "metadata": {
    "ExecuteTime": {
     "end_time": "2019-10-01T03:23:16.721233Z",
     "start_time": "2019-10-01T03:23:16.707106Z"
    }
   },
   "outputs": [],
   "source": [
    "matplotlib_is_available = True\n",
    "try:\n",
    "    from matplotlib import pyplot as plt\n",
    "except ImportError:\n",
    "    print(\"Will skip plotting; matplotlib is not available.\")\n",
    "    matplotlib_is_available = False"
   ]
  },
  {
   "cell_type": "code",
   "execution_count": 4,
   "metadata": {
    "ExecuteTime": {
     "end_time": "2019-10-01T03:23:19.922382Z",
     "start_time": "2019-10-01T03:23:19.755109Z"
    },
    "scrolled": true
   },
   "outputs": [
    {
     "name": "stdout",
     "output_type": "stream",
     "text": [
      "Using cuda for computation\n"
     ]
    }
   ],
   "source": [
    "use_cuda = torch.cuda.is_available()\n",
    "device = torch.device('cuda' if use_cuda else 'cpu')\n",
    "print(\"Using %s for computation\" % device)"
   ]
  },
  {
   "cell_type": "code",
   "execution_count": 25,
   "metadata": {
    "ExecuteTime": {
     "end_time": "2019-10-01T03:56:42.872560Z",
     "start_time": "2019-10-01T03:56:42.869400Z"
    }
   },
   "outputs": [],
   "source": [
    "resources = \"resources/\"\n",
    "models = \"models/\""
   ]
  },
  {
   "cell_type": "code",
   "execution_count": 5,
   "metadata": {
    "ExecuteTime": {
     "end_time": "2019-10-01T03:23:22.349200Z",
     "start_time": "2019-10-01T03:23:22.321413Z"
    }
   },
   "outputs": [],
   "source": [
    "def real_fn(x):\n",
    "    return x*x + 3*x + 2\n",
    "\n",
    "def get_real_samples(n=5000, scale=50):\n",
    "    data = []\n",
    "    x = scale * randn(n)\n",
    "\n",
    "    for i in range(n):\n",
    "        y = real_fn(x[i])\n",
    "        data.append([x[i], y])\n",
    "\n",
    "    return torch.FloatTensor(data)"
   ]
  },
  {
   "cell_type": "code",
   "execution_count": 6,
   "metadata": {
    "ExecuteTime": {
     "end_time": "2019-10-01T03:23:24.877223Z",
     "start_time": "2019-10-01T03:23:24.869093Z"
    }
   },
   "outputs": [],
   "source": [
    "def get_fake_samples(n=5000, elements=5):\n",
    "    return torch.randn(size=[n, elements])"
   ]
  },
  {
   "cell_type": "code",
   "execution_count": 9,
   "metadata": {
    "ExecuteTime": {
     "end_time": "2019-10-01T03:24:56.280131Z",
     "start_time": "2019-10-01T03:24:56.258469Z"
    }
   },
   "outputs": [],
   "source": [
    "class Generator(nn.Module):\n",
    "    def __init__(self, input_len=5, hidden_len=16, output_len=2):\n",
    "        super(Generator, self).__init__()\n",
    "\n",
    "        self.layer1 = nn.Sequential(\n",
    "            nn.Linear(input_len, hidden_len),\n",
    "            nn.ReLU()\n",
    "        )\n",
    "        self.layer2 = nn.Sequential(\n",
    "            nn.Linear(hidden_len, hidden_len),\n",
    "            nn.ReLU()\n",
    "        )\n",
    "        self.layer3 = nn.Sequential(\n",
    "            nn.Linear(hidden_len, output_len)\n",
    "        )\n",
    "\n",
    "    def forward(self, x):\n",
    "        x = self.layer1(x)\n",
    "        x = self.layer2(x)\n",
    "        x = self.layer3(x)\n",
    "        return x\n",
    "\n",
    "generator = Generator()"
   ]
  },
  {
   "cell_type": "code",
   "execution_count": 10,
   "metadata": {
    "ExecuteTime": {
     "end_time": "2019-10-01T03:29:57.057569Z",
     "start_time": "2019-10-01T03:29:57.034759Z"
    }
   },
   "outputs": [],
   "source": [
    "class Discriminator(nn.Module):\n",
    "    def __init__(self, input_len=2, hidden_len=16, output_len=1):\n",
    "        super(Discriminator, self).__init__()\n",
    "\n",
    "        self.layer1 = nn.Sequential(\n",
    "            nn.Linear(input_len, hidden_len),\n",
    "            nn.LeakyReLU(0.2),\n",
    "            nn.Dropout(0.3)\n",
    "        )\n",
    "        self.layer2 = nn.Sequential(\n",
    "            nn.Linear(hidden_len, hidden_len),\n",
    "            nn.LeakyReLU(0.2),\n",
    "            nn.Dropout(0.3)\n",
    "        )\n",
    "        self.layer3 = nn.Sequential(\n",
    "            nn.Linear(hidden_len, output_len),\n",
    "            nn.Sigmoid()\n",
    "        )\n",
    "\n",
    "    def forward(self, x):\n",
    "        x = self.layer1(x)\n",
    "        x = self.layer2(x)\n",
    "        x = self.layer3(x)\n",
    "        return x\n",
    "\n",
    "discriminator = Discriminator()"
   ]
  },
  {
   "cell_type": "code",
   "execution_count": 11,
   "metadata": {
    "ExecuteTime": {
     "end_time": "2019-10-01T03:30:05.164303Z",
     "start_time": "2019-10-01T03:30:05.156934Z"
    }
   },
   "outputs": [],
   "source": [
    "d_lr = 1e-3\n",
    "g_lr = 1e-3\n",
    "loss = nn.BCELoss()"
   ]
  },
  {
   "cell_type": "code",
   "execution_count": 12,
   "metadata": {
    "ExecuteTime": {
     "end_time": "2019-10-01T03:30:07.319982Z",
     "start_time": "2019-10-01T03:30:07.310160Z"
    }
   },
   "outputs": [],
   "source": [
    "d_optimizer = optim.Adam(discriminator.parameters(), lr=d_lr)\n",
    "g_optimizer = optim.Adam(generator.parameters(), lr=g_lr)"
   ]
  },
  {
   "cell_type": "code",
   "execution_count": 40,
   "metadata": {
    "ExecuteTime": {
     "end_time": "2019-10-01T04:27:14.087253Z",
     "start_time": "2019-10-01T04:27:14.065624Z"
    }
   },
   "outputs": [],
   "source": [
    "generator.load_state_dict(torch.load(models+'generator.pth'))\n",
    "discriminator.load_state_dict(torch.load(models+'discriminator.pth'))\n",
    "g_optimizer.load_state_dict(torch.load(models+'g_optimizer.pth'))\n",
    "d_optimizer.load_state_dict(torch.load(models+'d_optimizer.pth'))"
   ]
  },
  {
   "cell_type": "code",
   "execution_count": 14,
   "metadata": {
    "ExecuteTime": {
     "end_time": "2019-10-01T03:30:19.450031Z",
     "start_time": "2019-10-01T03:30:19.436097Z"
    }
   },
   "outputs": [],
   "source": [
    "dtype = torch.cuda.FloatTensor\n",
    "\n",
    "def ones_target(size):\n",
    "#     data = Variable(torch.ones(size, 1).type(dtype))\n",
    "    data = Variable(torch.Tensor(size, 1).fill_(0.9).type(dtype))\n",
    "    return data\n",
    "\n",
    "\n",
    "def zeros_target(size):\n",
    "    data = Variable(torch.zeros(size, 1).type(dtype))\n",
    "    return data"
   ]
  },
  {
   "cell_type": "code",
   "execution_count": 15,
   "metadata": {
    "ExecuteTime": {
     "end_time": "2019-10-01T03:30:23.689777Z",
     "start_time": "2019-10-01T03:30:23.674878Z"
    }
   },
   "outputs": [],
   "source": [
    "def train_discriminator(optimizer, real_data, fake_data):\n",
    "    N = real_data.size(0)\n",
    "    optimizer.zero_grad()\n",
    "\n",
    "    prediction_real = discriminator(real_data)\n",
    "    error_real = loss(prediction_real, ones_target(N))\n",
    "    error_real.backward()\n",
    "\n",
    "    prediction_fake = discriminator(fake_data)\n",
    "    error_fake = loss(prediction_fake, zeros_target(N))\n",
    "    error_fake.backward()\n",
    "\n",
    "    optimizer.step()\n",
    "\n",
    "    return error_real + error_fake, prediction_real, prediction_fake"
   ]
  },
  {
   "cell_type": "code",
   "execution_count": 16,
   "metadata": {
    "ExecuteTime": {
     "end_time": "2019-10-01T03:30:25.085361Z",
     "start_time": "2019-10-01T03:30:25.074531Z"
    }
   },
   "outputs": [],
   "source": [
    "def train_generator(optimizer, fake_data):\n",
    "    N = fake_data.size(0)\n",
    "    optimizer.zero_grad()\n",
    "\n",
    "    prediction = discriminator(fake_data)\n",
    "\n",
    "    error = loss(prediction, ones_target(N))\n",
    "    error.backward()\n",
    "\n",
    "    optimizer.step()\n",
    "\n",
    "    return error"
   ]
  },
  {
   "cell_type": "code",
   "execution_count": 23,
   "metadata": {
    "ExecuteTime": {
     "end_time": "2019-10-01T03:44:32.099409Z",
     "start_time": "2019-10-01T03:44:32.090925Z"
    }
   },
   "outputs": [],
   "source": [
    "num_test_samples = 256\n",
    "discriminator_steps = 20\n",
    "generator_steps = 20\n",
    "num_epochs = 5000\n",
    "printing_epoch = 100\n",
    "discriminator.to(device)\n",
    "generator.to(device)\n",
    "d_losses = []\n",
    "g_losses = []"
   ]
  },
  {
   "cell_type": "code",
   "execution_count": 34,
   "metadata": {
    "ExecuteTime": {
     "end_time": "2019-10-01T04:10:08.299758Z",
     "start_time": "2019-10-01T04:10:08.292127Z"
    }
   },
   "outputs": [],
   "source": [
    "def current_status(real, fake, epoch):\n",
    "    x, y = zip(*fake.tolist())\n",
    "    plt.scatter(x, y, label='Generated Data')\n",
    "    x, y = zip(*real.tolist())\n",
    "    plt.scatter(x, y, label='Real Data')\n",
    "    plt.legend(loc='upper right')\n",
    "    plt.xlabel(\"input\")\n",
    "    plt.title(\"Comparsion of Real vs Generated Data - Epoch %s\" %epoch)\n",
    "    save_location = resources+ 'epoch-%s.png' %epoch\n",
    "    plt.savefig(save_location, bbox_inches='tight')\n",
    "    plt.show()\n",
    "\n",
    "def plot_losses(disc, gene):\n",
    "    plt.plot(disc, label='Discriminator Loss')\n",
    "    plt.plot(gene, label='Generator Loss')\n",
    "    plt.legend(loc='upper right')\n",
    "    plt.xlabel(\"Epoch\")\n",
    "    plt.ylabel(\"Loss\")\n",
    "    plt.title(\"Discriminator and Generator Loss\")\n",
    "    save_location = resources+ 'loss.png'\n",
    "    plt.savefig(save_location, bbox_inches='tight')\n",
    "    plt.show()"
   ]
  },
  {
   "cell_type": "code",
   "execution_count": 41,
   "metadata": {
    "ExecuteTime": {
     "end_time": "2019-10-01T04:42:46.948452Z",
     "start_time": "2019-10-01T04:28:23.528227Z"
    }
   },
   "outputs": [
    {
     "name": "stdout",
     "output_type": "stream",
     "text": [
      "Epoch\n",
      "4900\n",
      "Discriminator Loss:\n",
      "1.374895453453064\n",
      "Generator Loss:\n",
      "0.7965847253799438\n"
     ]
    },
    {
     "data": {
      "image/png": "[encoded data removed]",
      "text/plain": [
       "<Figure size 432x288 with 1 Axes>"
      ]
     },
     "metadata": {
      "needs_background": "dark"
     },
     "output_type": "display_data"
    }
   ],
   "source": [
    "discriminator.train()\n",
    "generator.train()\n",
    "for epoch in range(num_epochs):\n",
    "    real_data = None\n",
    "    fake_data = None\n",
    "    \n",
    "    for d_steps in range(discriminator_steps):\n",
    "        real_data = get_real_samples(n=num_test_samples)\n",
    "        fake = get_fake_samples(n=num_test_samples)\n",
    "        fake = fake.to(device)\n",
    "        fake_data = generator(fake).detach()\n",
    "        fake_data = fake_data.to(device)\n",
    "        real_data = real_data.to(device)\n",
    "        d_error, d_pred_real, d_pred_fake = \\\n",
    "            train_discriminator(\n",
    "                d_optimizer, real_data, fake_data)\n",
    "        d_losses.append(d_error.item())\n",
    "    \n",
    "    for g_steps in range(generator_steps):\n",
    "        fake = get_fake_samples(n=num_test_samples)\n",
    "        fake = fake.to(device)\n",
    "        fake_data = generator(fake)\n",
    "        g_error = train_generator(g_optimizer, fake_data)\n",
    "        g_losses.append(g_error.item())\n",
    "    \n",
    "    if(epoch % printing_epoch == 0):\n",
    "        clear_output()\n",
    "        print(\"Epoch\")\n",
    "        print(epoch)\n",
    "        print(\"Discriminator Loss:\")\n",
    "        print(d_error.item())\n",
    "        print(\"Generator Loss:\")\n",
    "        print(g_error.item())\n",
    "        current_status(real_data, fake_data, epoch)"
   ]
  },
  {
   "cell_type": "code",
   "execution_count": 43,
   "metadata": {
    "ExecuteTime": {
     "end_time": "2019-10-01T04:48:48.179002Z",
     "start_time": "2019-10-01T04:48:48.156078Z"
    }
   },
   "outputs": [],
   "source": [
    "torch.save(generator.state_dict(), models+'generator.pth')\n",
    "torch.save(discriminator.state_dict(), models+'discriminator.pth')\n",
    "torch.save(g_optimizer.state_dict(), models+'g_optimizer.pth')\n",
    "torch.save(d_optimizer.state_dict(), models+'d_optimizer.pth')"
   ]
  },
  {
   "cell_type": "code",
   "execution_count": 42,
   "metadata": {
    "ExecuteTime": {
     "end_time": "2019-10-01T04:46:27.268297Z",
     "start_time": "2019-10-01T04:46:26.473675Z"
    }
   },
   "outputs": [
    {
     "data": {
      "image/png": "[encoded data removed]",
      "text/plain": [
       "<Figure size 432x288 with 1 Axes>"
      ]
     },
     "metadata": {
      "needs_background": "dark"
     },
     "output_type": "display_data"
    }
   ],
   "source": [
    "plot_losses(d_losses, g_losses)"
   ]
  }
 ],
 "metadata": {
  "kernelspec": {
   "display_name": "Python 3",
   "language": "python",
   "name": "python3"
  },
  "language_info": {
   "codemirror_mode": {
    "name": "ipython",
    "version": 3
   },
   "file_extension": ".py",
   "mimetype": "text/x-python",
   "name": "python",
   "nbconvert_exporter": "python",
   "pygments_lexer": "ipython3",
   "version": "3.7.3"
  },
  "toc": {
   "base_numbering": 1,
   "nav_menu": {},
   "number_sections": true,
   "sideBar": true,
   "skip_h1_title": false,
   "title_cell": "Table of Contents",
   "title_sidebar": "Contents",
   "toc_cell": false,
   "toc_position": {},
   "toc_section_display": true,
   "toc_window_display": false
  }
 },
 "nbformat": 4,
 "nbformat_minor": 2
}
